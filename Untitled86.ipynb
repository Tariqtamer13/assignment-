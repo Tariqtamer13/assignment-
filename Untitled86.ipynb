{
 "cells": [
  {
   "cell_type": "code",
   "execution_count": 4,
   "id": "4e41da31-8228-4e8c-b880-786e88f7671d",
   "metadata": {},
   "outputs": [
    {
     "name": "stdout",
     "output_type": "stream",
     "text": [
      "Initial Weights:\n",
      "Weights between input and hidden layer:\n",
      "[[0.56250983 0.85466405]\n",
      " [0.3041367  0.82853524]]\n",
      "Weights between hidden and output layer:\n",
      "[[0.95538754 0.96278022]\n",
      " [0.51424413 0.82006468]]\n",
      "\n",
      "Weights after the first update:\n",
      "Weights between input and hidden layer:\n",
      "[[0.56182059 0.85433252]\n",
      " [0.30275823 0.82787217]]\n",
      "Weights between hidden and output layer:\n",
      "[[0.91483646 0.96932139]\n",
      " [0.47464679 0.82645201]]\n",
      "\n",
      "Weights after the second update:\n",
      "Weights between input and hidden layer:\n",
      "[[0.56114673 0.85402505]\n",
      " [0.30141052 0.82725724]]\n",
      "Weights between hidden and output layer:\n",
      "[[0.87369785 0.97568433]\n",
      " [0.43435483 0.83268399]]\n"
     ]
    }
   ],
   "source": [
    "import numpy as np\n",
    "\n",
    "# Define sigmoid activation function\n",
    "def sigmoid(x):\n",
    "    return 1 / (1 + np.exp(-x))\n",
    "\n",
    "# Define derivative of sigmoid function\n",
    "def sigmoid_derivative(x):\n",
    "    return x * (1 - x)\n",
    "\n",
    "class NeuralNetwork:\n",
    "    def __init__(self):\n",
    "        # Initialize weights and biases\n",
    "        self.weights_input_hidden = np.random.rand(2, 2)  # Weights between input and hidden layer\n",
    "        self.weights_hidden_output = np.random.rand(2, 2)  # Weights between hidden and output layer\n",
    "        self.bias_hidden = np.random.rand(1, 2)  # Bias for hidden layer\n",
    "        self.bias_output = np.random.rand(1, 2)  # Bias for output layer\n",
    "\n",
    "    def feedforward(self, inputs):\n",
    "        # Calculate hidden layer output\n",
    "        self.hidden_output = sigmoid(np.dot(inputs, self.weights_input_hidden) + self.bias_hidden)\n",
    "        # Calculate output layer output\n",
    "        self.output = sigmoid(np.dot(self.hidden_output, self.weights_hidden_output) + self.bias_output)\n",
    "        return self.output\n",
    "\n",
    "    def backpropagation(self, inputs, targets, learning_rate):\n",
    "        # Calculate error at output layer\n",
    "        output_errors = targets - self.output\n",
    "        # Calculate delta for output layer\n",
    "        output_delta = output_errors * sigmoid_derivative(self.output)\n",
    "        # Calculate error at hidden layer\n",
    "        hidden_errors = np.dot(output_delta, self.weights_hidden_output.T)\n",
    "        # Calculate delta for hidden layer\n",
    "        hidden_delta = hidden_errors * sigmoid_derivative(self.hidden_output)\n",
    "        # Update weights and biases\n",
    "        self.weights_hidden_output += np.dot(self.hidden_output.T, output_delta) * learning_rate\n",
    "        self.weights_input_hidden += np.dot(inputs.T, hidden_delta) * learning_rate\n",
    "        self.bias_output += np.sum(output_delta, axis=0) * learning_rate\n",
    "        self.bias_hidden += np.sum(hidden_delta, axis=0) * learning_rate\n",
    "\n",
    "if __name__ == \"__main__\":\n",
    "    # Initialize neural network\n",
    "    neural_network = NeuralNetwork()\n",
    "\n",
    "    # Input data\n",
    "    inputs = np.array([[0.05, 0.1]])\n",
    "\n",
    "    # Target output\n",
    " "
   ]
  },
  {
   "cell_type": "code",
   "execution_count": null,
   "id": "e5a198f4-e30d-42fb-bd0c-d7e06fd85f42",
   "metadata": {},
   "outputs": [],
   "source": []
  }
 ],
 "metadata": {
  "kernelspec": {
   "display_name": "Python 3 (ipykernel)",
   "language": "python",
   "name": "python3"
  },
  "language_info": {
   "codemirror_mode": {
    "name": "ipython",
    "version": 3
   },
   "file_extension": ".py",
   "mimetype": "text/x-python",
   "name": "python",
   "nbconvert_exporter": "python",
   "pygments_lexer": "ipython3",
   "version": "3.12.7"
  }
 },
 "nbformat": 4,
 "nbformat_minor": 5
}
